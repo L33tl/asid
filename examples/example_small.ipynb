{
 "cells": [
  {
   "cell_type": "markdown",
   "id": "10191197",
   "metadata": {},
   "source": [
    "# Example of "
   ]
  },
  {
   "cell_type": "code",
   "execution_count": 3,
   "id": "bda2e0cf",
   "metadata": {},
   "outputs": [],
   "source": [
    "from sklearn.datasets import load_iris\n",
    "\n",
    "X = load_iris().data"
   ]
  },
  {
   "cell_type": "code",
   "execution_count": 4,
   "id": "080a6190",
   "metadata": {},
   "outputs": [],
   "source": [
    "from asid.automl_small.gm import GenerativeModel"
   ]
  },
  {
   "cell_type": "code",
   "execution_count": 5,
   "id": "4cf80d3d",
   "metadata": {},
   "outputs": [
    {
     "name": "stdout",
     "output_type": "stream",
     "text": [
      "  0%|              | 640/9223372036854775807 [00:03<12012360193074:03:36, 213.28trial/s, best loss: 148.59207417575865]\n",
      "sklearn_kde model is fitted.\n",
      "Training time:  0:00:03.005650\n",
      "None\n"
     ]
    }
   ],
   "source": [
    "clf = GenerativeModel(gen_model_type=\"sklearn_kde\", num_syn_samples=10, hyperopt_time=3)\n",
    "clf.fit(X)\n",
    "print(clf.score_)\n"
   ]
  },
  {
   "cell_type": "code",
   "execution_count": null,
   "id": "b7c62ecc",
   "metadata": {},
   "outputs": [],
   "source": []
  },
  {
   "cell_type": "code",
   "execution_count": null,
   "id": "30de860c",
   "metadata": {},
   "outputs": [],
   "source": []
  },
  {
   "cell_type": "code",
   "execution_count": null,
   "id": "1fdc3425",
   "metadata": {},
   "outputs": [],
   "source": []
  }
 ],
 "metadata": {
  "kernelspec": {
   "display_name": "Python 3 (ipykernel)",
   "language": "python",
   "name": "python3"
  },
  "language_info": {
   "codemirror_mode": {
    "name": "ipython",
    "version": 3
   },
   "file_extension": ".py",
   "mimetype": "text/x-python",
   "name": "python",
   "nbconvert_exporter": "python",
   "pygments_lexer": "ipython3",
   "version": "3.8.3"
  }
 },
 "nbformat": 4,
 "nbformat_minor": 5
}
