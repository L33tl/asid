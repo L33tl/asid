{
 "cells": [
  {
   "cell_type": "markdown",
   "id": "0ae3dfa2",
   "metadata": {},
   "source": [
    "# Example of a GenerativeModel usage"
   ]
  },
  {
   "cell_type": "markdown",
   "id": "be8ae912",
   "metadata": {},
   "source": [
    "As the input data "
   ]
  },
  {
   "cell_type": "code",
   "execution_count": 4,
   "id": "2ec02a08",
   "metadata": {},
   "outputs": [],
   "source": []
  },
  {
   "cell_type": "code",
   "execution_count": 5,
   "id": "601012be",
   "metadata": {},
   "outputs": [
    {
     "name": "stdout",
     "output_type": "stream",
     "text": [
      "  0%|              | 640/9223372036854775807 [00:03<12012360193074:03:36, 213.28trial/s, best loss: 148.59207417575865]\n",
      "sklearn_kde model is fitted.\n",
      "Training time:  0:00:03.005650\n",
      "None\n"
     ]
    }
   ],
   "source": [
    "\n"
   ]
  },
  {
   "cell_type": "code",
   "execution_count": null,
   "id": "0f7fd568",
   "metadata": {},
   "outputs": [],
   "source": []
  },
  {
   "cell_type": "code",
   "execution_count": null,
   "id": "eefacbf2",
   "metadata": {},
   "outputs": [],
   "source": []
  },
  {
   "cell_type": "code",
   "execution_count": null,
   "id": "d9ebf8c0",
   "metadata": {},
   "outputs": [],
   "source": []
  }
 ],
 "metadata": {
  "kernelspec": {
   "display_name": "Python 3 (ipykernel)",
   "language": "python",
   "name": "python3"
  },
  "language_info": {
   "codemirror_mode": {
    "name": "ipython",
    "version": 3
   },
   "file_extension": ".py",
   "mimetype": "text/x-python",
   "name": "python",
   "nbconvert_exporter": "python",
   "pygments_lexer": "ipython3",
   "version": "3.8.3"
  }
 },
 "nbformat": 4,
 "nbformat_minor": 5
}
