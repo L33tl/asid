{
 "cells": [
  {
   "cell_type": "markdown",
   "id": "486da313",
   "metadata": {},
   "source": [
    "# Example of "
   ]
  },
  {
   "cell_type": "code",
   "execution_count": null,
   "id": "bd8ee2ea",
   "metadata": {},
   "outputs": [],
   "source": [
    "from sklearn.datasets import load_iris\n",
    "\n",
    "X = load_iris().data"
   ]
  },
  {
   "cell_type": "code",
   "execution_count": 1,
   "id": "83917140",
   "metadata": {},
   "outputs": [],
   "source": [
    "from asid.automl_small.gm import GenerativeModel"
   ]
  },
  {
   "cell_type": "code",
   "execution_count": null,
   "id": "bc886559",
   "metadata": {},
   "outputs": [],
   "source": []
  }
 ],
 "metadata": {
  "kernelspec": {
   "display_name": "Python 3 (ipykernel)",
   "language": "python",
   "name": "python3"
  },
  "language_info": {
   "codemirror_mode": {
    "name": "ipython",
    "version": 3
   },
   "file_extension": ".py",
   "mimetype": "text/x-python",
   "name": "python",
   "nbconvert_exporter": "python",
   "pygments_lexer": "ipython3",
   "version": "3.8.3"
  }
 },
 "nbformat": 4,
 "nbformat_minor": 5
}
