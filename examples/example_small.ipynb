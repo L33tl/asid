{
 "cells": [
  {
   "cell_type": "markdown",
   "id": "0d562a46",
   "metadata": {},
   "source": [
    "# Example of "
   ]
  },
  {
   "cell_type": "code",
   "execution_count": null,
   "id": "327e3582",
   "metadata": {},
   "outputs": [],
   "source": [
    "from sklearn.datasets import load_iris\n",
    "\n",
    "X = load_iris().data"
   ]
  },
  {
   "cell_type": "code",
   "execution_count": 1,
   "id": "4d86fe57",
   "metadata": {},
   "outputs": [],
   "source": [
    "from asid.automl_small.gm import GenerativeModel"
   ]
  },
  {
   "cell_type": "code",
   "execution_count": null,
   "id": "7a9ced42",
   "metadata": {},
   "outputs": [],
   "source": [
    "clf = GenerativeModel(gen_model_type=\"sklearn_kde\", num_syn_samples=10, hyperopt_time=3)\n",
    "clf.fit(X)\n",
    "print(clf.score_)"
   ]
  },
  {
   "cell_type": "code",
   "execution_count": null,
   "id": "22a5ee59",
   "metadata": {},
   "outputs": [],
   "source": []
  },
  {
   "cell_type": "code",
   "execution_count": null,
   "id": "de3b57e0",
   "metadata": {},
   "outputs": [],
   "source": []
  }
 ],
 "metadata": {
  "kernelspec": {
   "display_name": "Python 3 (ipykernel)",
   "language": "python",
   "name": "python3"
  },
  "language_info": {
   "codemirror_mode": {
    "name": "ipython",
    "version": 3
   },
   "file_extension": ".py",
   "mimetype": "text/x-python",
   "name": "python",
   "nbconvert_exporter": "python",
   "pygments_lexer": "ipython3",
   "version": "3.8.3"
  }
 },
 "nbformat": 4,
 "nbformat_minor": 5
}
