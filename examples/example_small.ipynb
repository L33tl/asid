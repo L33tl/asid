{
 "cells": [
  {
   "cell_type": "markdown",
   "id": "acc41a52",
   "metadata": {},
   "source": [
    "# Example of "
   ]
  },
  {
   "cell_type": "code",
   "execution_count": null,
   "id": "a2d44fa3",
   "metadata": {},
   "outputs": [],
   "source": [
    "from sklearn.datasets import load_iris\n",
    "\n",
    "X = load_iris().data"
   ]
  },
  {
   "cell_type": "code",
   "execution_count": 1,
   "id": "2de17328",
   "metadata": {},
   "outputs": [],
   "source": [
    "from asid.automl_small.gm import GenerativeModel"
   ]
  },
  {
   "cell_type": "code",
   "execution_count": null,
   "id": "7d65eeaf",
   "metadata": {},
   "outputs": [],
   "source": [
    "clf = GenerativeModel(gen_model_type=\"sklearn_kde\", num_syn_samples=10, hyperopt_time=3)\n",
    "clf.fit(X)"
   ]
  }
 ],
 "metadata": {
  "kernelspec": {
   "display_name": "Python 3 (ipykernel)",
   "language": "python",
   "name": "python3"
  },
  "language_info": {
   "codemirror_mode": {
    "name": "ipython",
    "version": 3
   },
   "file_extension": ".py",
   "mimetype": "text/x-python",
   "name": "python",
   "nbconvert_exporter": "python",
   "pygments_lexer": "ipython3",
   "version": "3.8.3"
  }
 },
 "nbformat": 4,
 "nbformat_minor": 5
}
