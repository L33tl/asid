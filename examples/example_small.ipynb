{
 "cells": [
  {
   "cell_type": "markdown",
   "id": "0ae3dfa2",
   "metadata": {},
   "source": [
    "# Example of a GenerativeModel instance usage"
   ]
  },
  {
   "cell_type": "markdown",
   "id": "be8ae912",
   "metadata": {},
   "source": [
    "Input data for GenerativeModel includes small training sample. It should have an array-like table format with the (n_samples, n_features) dimensionality. The sample should contain only continious data with the number of features less than 50. The number of samples should be less than 30 and should not exceed 1000 samples. "
   ]
  },
  {
   "cell_type": "markdown",
   "id": "d8c49e8c",
   "metadata": {},
   "source": [
    "Downloading Iris Dataset as an example."
   ]
  },
  {
   "cell_type": "code",
   "execution_count": 11,
   "id": "601012be",
   "metadata": {},
   "outputs": [],
   "source": [
    "from sklearn.datasets import load_iris\n",
    "\n",
    "X = load_iris().data"
   ]
  },
  {
   "cell_type": "markdown",
   "id": "bbb1a647",
   "metadata": {},
   "source": [
    "Fitting the optimal generative model in terms of overfitting with 'optimize' option and 10 sec. of Hyperopt optimization."
   ]
  },
  {
   "cell_type": "code",
   "execution_count": null,
   "id": "eefacbf2",
   "metadata": {},
   "outputs": [
    {
     "name": "stdout",
     "output_type": "stream",
     "text": [
      "  0%|             | 1586/9223372036854775807 [00:10<16156856959708:18:16, 158.57trial/s, best loss: 113.74660742972308]\n",
      "  0%|                | 284/9223372036854775807 [00:10<90477828913822:36:48, 28.32trial/s, best loss: 2.743078274977293]\n",
      "  0%|                | 76/9223372036854775807 [00:10<337339916726271:04:32,  7.59trial/s, best loss: 3.169252238241343]\n"
     ]
    }
   ],
   "source": [
    "from asid.automl_small.gm import GenerativeModel\n",
    "\n",
    "clf = GenerativeModel(gen_model_type=\"optimize\", num_syn_samples=10, hyperopt_time=10)\n",
    "clf.fit(X)"
   ]
  },
  {
   "cell_type": "markdown",
   "id": "9c6eedd3",
   "metadata": {},
   "source": [
    "As a result a stats_kde_cv_ml was chosen and fitted. The optimal model label is stored in clf.gen_model_label_, the score value is stored in clf.score_. The information about the models fitted during the GenerativeModel's run is stored in clf.info_."
   ]
  },
  {
   "cell_type": "markdown",
   "id": "92f7c4dc",
   "metadata": {},
   "source": [
    "Let's visualize the GenerativeModel's search and compare the alternatives."
   ]
  },
  {
   "cell_type": "code",
   "execution_count": null,
   "id": "4c1c823b",
   "metadata": {},
   "outputs": [],
   "source": [
    "import numpy as np\n",
    "\n",
    "alg_name = []\n",
    "scores_list = []\n",
    "for meth in list(clf.info_[\"gen_models\"].keys()):\n",
    "    scores = list(np.array(data_zu[\"gen_models\"][meth][\"score\"]).reshape(1,-1))[0]\n",
    "    scores_list.extend(scores)\n",
    "    alg_name.extend([meth + \"\\nFit: \" + str(round(np.mean(data_zu[\"gen_models\"][meth][\"train_time\"]).microseconds*10** - 6 + np.mean(data_zu[\"gen_models\"][meth][\"train_time\"]).seconds, 2))+\" sec.\\n\"\n",
    "                     + \"Sample: \"+ str(round(np.mean(data_zu[\"gen_models\"][meth][\"sampling_time\"]).microseconds*10** - 6 + np.mean(data_zu[\"gen_models\"][meth][\"sampling_time\"]).seconds, 2))+\" sec.\" for element in scores])\n",
    "result = pd.DataFrame({\"Alg\":alg_name, \"Score\":scores_list})\n",
    "result_group_sort = result.groupby(\"Alg\")[\"Score\"].mean()\n",
    "name_list = list(result_group_sort.sort_values(ascending=True).index)\n",
    "plt.figure(figsize=(18,10))\n",
    "sns.boxplot(x=alg_name, y=scores_list, showmeans=True, meanline=True,meanprops=dict(color='black', linewidth=2.5),order=name_list, color=\"darkgreen\")\n",
    "plt.ylabel(\"Критерий на основе метрики Zu\", fontsize=15)\n",
    "plt.tight_layout()\n",
    "plt.show()"
   ]
  },
  {
   "cell_type": "code",
   "execution_count": null,
   "id": "7f8bc0c0",
   "metadata": {},
   "outputs": [],
   "source": []
  }
 ],
 "metadata": {
  "kernelspec": {
   "display_name": "Python 3 (ipykernel)",
   "language": "python",
   "name": "python3"
  },
  "language_info": {
   "codemirror_mode": {
    "name": "ipython",
    "version": 3
   },
   "file_extension": ".py",
   "mimetype": "text/x-python",
   "name": "python",
   "nbconvert_exporter": "python",
   "pygments_lexer": "ipython3",
   "version": "3.8.3"
  }
 },
 "nbformat": 4,
 "nbformat_minor": 5
}
