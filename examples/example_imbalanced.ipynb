{
 "cells": [
  {
   "cell_type": "markdown",
   "id": "0ae3dfa2",
   "metadata": {},
   "source": [
    "# Example of an AutoBalanceBoost instance usage"
   ]
  },
  {
   "cell_type": "markdown",
   "id": "be8ae912",
   "metadata": {},
   "source": [
    "Input data for AutoBalanceBoost includes imbalanced training sample and a separate array of class labels. Training sample should have an array-like table format with the (n_samples, n_features) dimensionality. The sample should contain numerical data with the number of features less than 100. The number of samples should be no less than 30 for each class. "
   ]
  },
  {
   "cell_type": "markdown",
   "id": "b95e5572",
   "metadata": {},
   "source": [
    "Creatinga synthetic dataset as an example."
   ]
  },
  {
   "cell_type": "code",
   "execution_count": 15,
   "id": "601012be",
   "metadata": {},
   "outputs": [],
   "source": [
    "from sklearn.datasets import make_classification\n",
    "from sklearn.model_selection import train_test_split\n",
    "\n",
    "X, Y = make_classification(n_classes=4, n_features=6, n_redundant=2, n_repeated=0, n_informative=4,\n",
    "                           n_clusters_per_class=2, flip_y=0.05, n_samples=700, random_state=45,\n",
    "                           weights=(0.7, 0.2, 0.05, 0.05))\n",
    "X_train, X_test, y_train, y_test = train_test_split(X, Y, test_size=0.2, random_state=42)"
   ]
  },
  {
   "cell_type": "markdown",
   "id": "1aaca048",
   "metadata": {},
   "source": [
    "Fitting AutoBalanceBoost classifier."
   ]
  },
  {
   "cell_type": "code",
   "execution_count": 25,
   "id": "eefacbf2",
   "metadata": {},
   "outputs": [
    {
     "name": "stdout",
     "output_type": "stream",
     "text": [
      "Fitting time:  0:00:16.648517\n"
     ]
    }
   ],
   "source": [
    "from asid.automl_imbalanced.abb import AutoBalanceBoost\n",
    "from datetime import datetime\n",
    "\n",
    "t0 = datetime.now()\n",
    "clf = AutoBalanceBoost()\n",
    "clf.fit(X_train, y_train)\n",
    "print(\"Fitting time: \", datetime.now() - t0)"
   ]
  },
  {
   "cell_type": "markdown",
   "id": "2e7e1c09",
   "metadata": {},
   "source": [
    "Evaluating the quality of classification model. "
   ]
  },
  {
   "cell_type": "code",
   "execution_count": 26,
   "id": "a31f90fc",
   "metadata": {},
   "outputs": [
    {
     "name": "stdout",
     "output_type": "stream",
     "text": [
      "AutoBalanceBoost F1-score for synthetic example:  0.6\n"
     ]
    }
   ],
   "source": [
    "from sklearn.metrics import f1_score\n",
    "\n",
    "pred = clf.predict(X_test)\n",
    "print(\"AutoBalanceBoost F1-score for synthetic example: \", round(f1_score(y_test, pred, average=\"macro\"), 2))"
   ]
  },
  {
   "cell_type": "markdown",
   "id": "a224bc3f",
   "metadata": {},
   "source": [
    "In addition to that, AutoBalanceBoost allows to calculate feature importances."
   ]
  },
  {
   "cell_type": "code",
   "execution_count": 27,
   "id": "758a9bcc",
   "metadata": {},
   "outputs": [
    {
     "name": "stdout",
     "output_type": "stream",
     "text": [
      "Feature importances:  [0.1622119  0.17452391 0.18359398 0.17820891 0.14077694 0.16068436]\n"
     ]
    }
   ],
   "source": [
    "feat_imp = clf.feature_importances()\n",
    "print(\"Feature importances: \", feat_imp)"
   ]
  },
  {
   "cell_type": "markdown",
   "id": "d686757c",
   "metadata": {},
   "source": [
    "ASID also proposes an ImbalancedLearningClassifier estimator that searches for an optimal classifier for a given imbalanced task. It takes more time to evaluate, though allows to obtain a higher model quality. It searches through AutoBalanceBoost and combinations of SOTA ensemble algorithms and balancing procedures from imbalanced-learn library. "
   ]
  },
  {
   "cell_type": "markdown",
   "id": "a59b0967",
   "metadata": {},
   "source": [
    "# Example of an ImbalancedLearningClassifier instance usage"
   ]
  },
  {
   "cell_type": "markdown",
   "id": "001cedbe",
   "metadata": {},
   "source": [
    "Input data for ImbalancedLearningClassifier includes imbalanced training sample and a separate array of class labels. Training sample should have an array-like table format with the (n_samples, n_features) dimensionality. The sample should contain numerical data with the number of features less than 100. The number of samples should be no less than 30 for each class. "
   ]
  },
  {
   "cell_type": "markdown",
   "id": "54968ea9",
   "metadata": {},
   "source": [
    "Fitting ImbalancedLearningClassifier classifier."
   ]
  },
  {
   "cell_type": "code",
   "execution_count": 29,
   "id": "2636fac8",
   "metadata": {},
   "outputs": [
    {
     "name": "stdout",
     "output_type": "stream",
     "text": [
      "  0%|            | 2/9223372036854775807 [00:17<22798128655178283:14:08,  8.90s/trial, best loss: -0.49560049467980505]\n",
      "  0%|              | 2/9223372036854775807 [00:18<23497768672485121:08:16,  9.17s/trial, best loss: -0.537015122784888]\n",
      "  0%|            | 2/9223372036854775807 [00:18<23558952218692303:04:32,  9.20s/trial, best loss: -0.45957770610763954]\n",
      "  0%|             | 2/9223372036854775807 [00:17<22958806092323225:36:00,  8.96s/trial, best loss: -0.5142331217495691]\n",
      "  0%|             | 1/9223372036854775807 [00:11<30064948215540030:34:40, 11.73s/trial, best loss: -0.5655731241922066]\n",
      "  0%|             | 2/9223372036854775807 [00:18<23140127165699558:58:08,  9.03s/trial, best loss: -0.5165071074418192]\n",
      "  0%|             | 2/9223372036854775807 [00:18<23465181285777116:43:44,  9.16s/trial, best loss: -0.5488780444448965]\n",
      "  0%|            | 2/9223372036854775807 [00:18<23603139758493240:53:20,  9.21s/trial, best loss: -0.47953946393320945]\n",
      "  0%|             | 2/9223372036854775807 [00:18<23298317568626451:20:32,  9.09s/trial, best loss: -0.5277833812165788]\n",
      "  0%|             | 1/9223372036854775807 [00:10<27981955200387645:26:24, 10.92s/trial, best loss: -0.6310957394185391]\n",
      "  0%|             | 3/9223372036854775807 [00:12<10528685120063624:32:00,  4.11s/trial, best loss: -0.4355471331977788]\n",
      "  0%|             | 3/9223372036854775807 [00:14<12223031927626647:19:28,  4.77s/trial, best loss: -0.4579238361359515]\n",
      "  0%|             | 3/9223372036854775807 [00:15<12823572961922034:20:48,  5.01s/trial, best loss: -0.5122981687388425]\n",
      "  0%|             | 2/9223372036854775807 [00:10<13390610044399707:01:20,  5.23s/trial, best loss: -0.5062449371488873]\n",
      "  0%|             | 3/9223372036854775807 [00:12<10541761774743376:46:56,  4.11s/trial, best loss: -0.5108173470004996]\n",
      "  0%|             | 2/9223372036854775807 [00:18<23378599631808102:24:00,  9.12s/trial, best loss: -0.5171572603003369]\n",
      "  0%|              | 2/9223372036854775807 [00:15<20436974469193398:02:40,  7.98s/trial, best loss: -0.528005630588965]\n",
      "  0%|            | 2/9223372036854775807 [00:11<14711963108654448:38:24,  5.74s/trial, best loss: -0.44810095539066996]\n",
      "  0%|             | 2/9223372036854775807 [00:18<23578946837643409:38:08,  9.20s/trial, best loss: -0.5141335572570792]\n",
      "  0%|             | 2/9223372036854775807 [00:16<20916095212753897:14:40,  8.16s/trial, best loss: -0.6411362186376269]\n",
      "  0%|              | 17/9223372036854775807 [00:10<1589517859837252:16:00,  1.61trial/s, best loss: -0.507281904355075]\n",
      "  0%|             | 18/9223372036854775807 [00:10<1445594654316743:06:40,  1.77trial/s, best loss: -0.5010019786678955]\n",
      "  0%|             | 16/9223372036854775807 [00:10<1616228186218969:18:56,  1.59trial/s, best loss: -0.4695328157332767]\n",
      "  0%|             | 16/9223372036854775807 [00:10<1631954523937541:41:20,  1.57trial/s, best loss: -0.4935194636562595]\n",
      "  0%|             | 13/9223372036854775807 [00:10<2010798094931408:29:52,  1.27trial/s, best loss: -0.5955838653513499]\n",
      "  0%|             | 16/9223372036854775807 [00:10<1663847347623180:30:56,  1.54trial/s, best loss: -0.5181922987115095]\n",
      "  0%|             | 17/9223372036854775807 [00:10<1545388385748421:41:20,  1.66trial/s, best loss: -0.5098978997832583]\n",
      "  0%|             | 16/9223372036854775807 [00:10<1604730005194014:43:12,  1.60trial/s, best loss: -0.4741813753471626]\n",
      "  0%|             | 17/9223372036854775807 [00:10<1598903521055164:35:12,  1.60trial/s, best loss: -0.5313367371861082]\n",
      "  0%|             | 13/9223372036854775807 [00:10<2026217993708144:38:24,  1.26trial/s, best loss: -0.6287645394062249]\n",
      "  0%|             | 18/9223372036854775807 [00:10<1463387161877787:35:28,  1.75trial/s, best loss: -0.4837026653714154]\n",
      "  0%|             | 17/9223372036854775807 [00:10<1509171514750304:08:32,  1.70trial/s, best loss: -0.4602661719451038]\n",
      "  0%|             | 15/9223372036854775807 [00:10<1814462466667577:27:28,  1.41trial/s, best loss: -0.5137992432322772]\n",
      "  0%|             | 17/9223372036854775807 [00:10<1563564139385867:22:40,  1.64trial/s, best loss: -0.5737930022338691]\n",
      "  0%|             | 15/9223372036854775807 [00:10<1753019639329504:42:40,  1.46trial/s, best loss: -0.5513715202304527]\n",
      "  0%|             | 14/9223372036854775807 [00:10<1902181120375105:08:16,  1.35trial/s, best loss: -0.5256856344972368]\n",
      "  0%|             | 14/9223372036854775807 [00:10<1886238201772353:08:16,  1.36trial/s, best loss: -0.4926714904829817]\n",
      "  0%|              | 20/9223372036854775807 [00:10<1331052253369219:24:48,  1.92trial/s, best loss: -0.475477109689904]\n",
      "  0%|              | 18/9223372036854775807 [00:10<1520525285812267:31:12,  1.68trial/s, best loss: -0.503414401630559]\n",
      "  0%|             | 12/9223372036854775807 [00:10<2337587834052935:40:48,  1.10trial/s, best loss: -0.6157147847281985]\n",
      "  0%|             | 14/9223372036854775807 [00:10<1944361615141213:34:56,  1.32trial/s, best loss: -0.5020803668930681]\n",
      "  0%|            | 15/9223372036854775807 [00:10<1742645380617562:10:08,  1.47trial/s, best loss: -0.49425851063469006]\n",
      "  0%|             | 13/9223372036854775807 [00:10<2093956884625338:35:44,  1.22trial/s, best loss: -0.4686262686659089]\n",
      "  0%|              | 13/9223372036854775807 [00:10<2124735363261107:46:08,  1.21trial/s, best loss: -0.507055607220493]\n",
      "  0%|             | 10/9223372036854775807 [00:10<2686228830279492:50:08,  1.05s/trial, best loss: -0.6207976722762426]\n",
      "  0%|             | 13/9223372036854775807 [00:10<2090909874773783:19:28,  1.23trial/s, best loss: -0.5019353740865771]\n",
      "  0%|             | 16/9223372036854775807 [00:10<1698816436862393:27:28,  1.51trial/s, best loss: -0.4955282159909734]\n",
      "  0%|            | 12/9223372036854775807 [00:10<2159873973268765:17:52,  1.19trial/s, best loss: -0.46485961182916735]\n",
      "  0%|              | 13/9223372036854775807 [00:10<2056522977528824:02:08,  1.25trial/s, best loss: -0.502741356570353]\n",
      "  0%|             | 10/9223372036854775807 [00:10<2641963164069003:22:40,  1.03s/trial, best loss: -0.6057491224845462]\n",
      "  0%|              | 40/9223372036854775807 [00:10<644515375737500:09:36,  3.98trial/s, best loss: -0.5014735918226247]\n",
      "  0%|             | 40/9223372036854775807 [00:10<652542070227177:06:08,  3.93trial/s, best loss: -0.48238696574524964]\n",
      "  0%|              | 42/9223372036854775807 [00:10<611948831028677:58:24,  4.19trial/s, best loss: -0.5114689281542252]\n",
      "  0%|              | 40/9223372036854775807 [00:10<648483559015128:10:40,  3.95trial/s, best loss: -0.5852105111985361]\n",
      "  0%|              | 42/9223372036854775807 [00:10<611046518847476:20:16,  4.19trial/s, best loss: -0.5366035893113785]\n",
      "  0%|             | 11/9223372036854775807 [00:10<2448641104527432:32:00,  1.05trial/s, best loss: -0.5052260818041511]\n",
      "  0%|             | 12/9223372036854775807 [00:10<2273235454611850:31:28,  1.13trial/s, best loss: -0.5056837513029463]\n",
      "  0%|             | 12/9223372036854775807 [00:10<2287287264118143:42:56,  1.12trial/s, best loss: -0.4274533919547305]\n",
      "  0%|             | 18/9223372036854775807 [00:10<1476806938843602:12:16,  1.73trial/s, best loss: -0.4936425546865957]\n",
      "  0%|             | 10/9223372036854775807 [00:10<2590122290330992:38:24,  1.01s/trial, best loss: -0.6134117287730192]\n",
      "  0%|             | 10/9223372036854775807 [00:10<2684408772031647:17:20,  1.05s/trial, best loss: -0.4923525599544659]\n",
      "  0%|             | 11/9223372036854775807 [00:10<2491405887388206:38:56,  1.03trial/s, best loss: -0.4747100789213089]\n",
      "  0%|             | 11/9223372036854775807 [00:11<2615985552595353:36:00,  1.02s/trial, best loss: -0.4424881055575966]\n",
      "  0%|              | 10/9223372036854775807 [00:10<2700873286733820:35:12,  1.05s/trial, best loss: -0.510202265756131]\n",
      "  0%|              | 8/9223372036854775807 [00:10<3214342300145199:47:12,  1.25s/trial, best loss: -0.5988750151097108]\n",
      "  0%|             | 11/9223372036854775807 [00:10<2420139652961647:47:12,  1.06trial/s, best loss: -0.5051274550007314]\n",
      "  0%|              | 12/9223372036854775807 [00:10<2301760094951906:25:04,  1.11trial/s, best loss: -0.509951433459498]\n",
      "  0%|            | 11/9223372036854775807 [00:10<2434820743144301:13:36,  1.05trial/s, best loss: -0.44537206611215796]\n"
     ]
    },
    {
     "name": "stdout",
     "output_type": "stream",
     "text": [
      "  0%|             | 11/9223372036854775807 [00:10<2463341463929017:27:28,  1.04trial/s, best loss: -0.5385553133358875]\n",
      "  0%|              | 9/9223372036854775807 [00:11<3242515173119341:47:44,  1.27s/trial, best loss: -0.6015950800570445]\n",
      "  0%|             | 15/9223372036854775807 [00:10<1739649496490442:48:32,  1.47trial/s, best loss: -0.4865857387448765]\n",
      "  0%|             | 16/9223372036854775807 [00:10<1638410756954375:57:52,  1.56trial/s, best loss: -0.4659355318969155]\n",
      "  0%|             | 15/9223372036854775807 [00:10<1772993693340906:22:56,  1.45trial/s, best loss: -0.5130701079600741]\n",
      "  0%|            | 15/9223372036854775807 [00:10<1758682735052344:19:12,  1.46trial/s, best loss: -0.49762758578842475]\n",
      "  0%|             | 14/9223372036854775807 [00:10<1942286505100855:45:04,  1.32trial/s, best loss: -0.4992278436332402]\n",
      "  0%|             | 12/9223372036854775807 [00:10<2226802569537708:39:28,  1.15trial/s, best loss: -0.5083056358474571]\n",
      "  0%|             | 10/9223372036854775807 [00:10<2722256466702849:08:16,  1.06s/trial, best loss: -0.4989556565444048]\n",
      "  0%|             | 10/9223372036854775807 [00:11<2838215605350534:49:36,  1.11s/trial, best loss: -0.4412133864378447]\n",
      "  0%|             | 11/9223372036854775807 [00:10<2507491076131885:47:44,  1.02trial/s, best loss: -0.5157155575293292]\n",
      "  0%|             | 11/9223372036854775807 [00:10<2369092937591876:50:08,  1.08trial/s, best loss: -0.5873273929608472]\n",
      "  0%|            | 1/9223372036854775807 [00:10<25713205804120437:11:28, 10.04s/trial, best loss: -0.49800674333197853]\n",
      "The best generative model is RandomOverSampler+catboost\n",
      "Leader f1_macro score: 0.6643\n",
      "Fitting time:  0:18:06.719862\n"
     ]
    },
    {
     "data": {
      "text/plain": [
       "<asid.automl_imbalanced.ilc.ImbalancedLearningClassifier at 0x20f835a0370>"
      ]
     },
     "execution_count": 29,
     "metadata": {},
     "output_type": "execute_result"
    }
   ],
   "source": [
    "from asid.automl_imbalanced.ilc import ImbalancedLearningClassifier\n",
    "\n",
    "clf = ImbalancedLearningClassifier(split_num=5, hyperopt_time=10)\n",
    "clf.fit(X_train, y_train)"
   ]
  },
  {
   "cell_type": "markdown",
   "id": "cd4e59aa",
   "metadata": {},
   "source": [
    "As a result a combination of RandomOverSampler procedure and Catboost classifier was chosen and fitted. The optimal model label is stored in clf.classifer_label_, the score value is stored in clf.score_. The information about the models fitted during the ImbalancedLearningClassifier's run is stored in clf.evaluated_models_scores_ and clf.evaluated_models_time_."
   ]
  },
  {
   "cell_type": "markdown",
   "id": "4c11fcb8",
   "metadata": {},
   "source": [
    "Evaluating the quality of classification model on a test set. As can be seen, the out-of-fold accuracy for ImbalancedLearningClassifier is higher than for AutoBalanceBoost, though at a higher computational cost."
   ]
  },
  {
   "cell_type": "code",
   "execution_count": 30,
   "id": "f598c084",
   "metadata": {},
   "outputs": [
    {
     "name": "stdout",
     "output_type": "stream",
     "text": [
      "ImbalancedLearningClassifier F1-score for synthetic example:  0.63\n"
     ]
    }
   ],
   "source": [
    "pred = clf.predict(X_test)\n",
    "print(\"ImbalancedLearningClassifier F1-score for synthetic example: \", round(f1_score(y_test, pred, average=\"macro\"), 2))"
   ]
  },
  {
   "cell_type": "markdown",
   "id": "bb244586",
   "metadata": {},
   "source": [
    "Let's visualize the ImbalancedLearningClassifier's search and compare the alternatives."
   ]
  },
  {
   "cell_type": "code",
   "execution_count": 37,
   "id": "a2ba85b6",
   "metadata": {},
   "outputs": [
    {
     "data": {
      "image/png": "[encoded data removed]",
      "text/plain": [
       "<Figure size 1200x600 with 1 Axes>"
      ]
     },
     "metadata": {},
     "output_type": "display_data"
    }
   ],
   "source": [
    "import numpy as np\n",
    "import pandas as pd\n",
    "import matplotlib.pyplot as plt\n",
    "import seaborn as sns\n",
    "\n",
    "def add_data(score, result_acc,alg_name):\n",
    "    if alg_name.split(\"+\")[0] ==\"RandomOverSampler\":\n",
    "        alg_name = \"ROS\"+\"\\n+\\n\"+alg_name.split(\"+\")[1]\n",
    "    elif alg_name.split(\"+\")[0] ==\"RandomUnderSampler\":\n",
    "        alg_name = \"RUS\"+\"\\n+\\n\"+alg_name.split(\"+\")[1]\n",
    "    elif alg_name == \"AutoBalanceBoost\":\n",
    "        alg_name=\"ABB\"\n",
    "    else:\n",
    "        alg_name = alg_name.split(\"+\")[0]+\"\\n+\\n\"+alg_name.split(\"+\")[1]\n",
    "    alg_name_list = [alg_name for el in range(len(score))]\n",
    "    sub_result_acc = pd.DataFrame({\"Algorithm\":alg_name_list,\"F-score macro averaged\":score})\n",
    "    if len(result_acc)==0:\n",
    "        result_acc=sub_result_acc\n",
    "    else:\n",
    "        result_acc = pd.concat([result_acc, sub_result_acc], ignore_index=True, sort=False)\n",
    "    return result_acc\n",
    "\n",
    "result_acc = []\n",
    "for meth in list(clf.evaluated_models_scores_.keys()):\n",
    "    result_acc = add_data(clf.evaluated_models_scores_[meth],result_acc,meth)\n",
    "\n",
    "result = result_acc\n",
    "plt.figure(figsize=(12, 6))\n",
    "metric = \"F-score macro averaged\"\n",
    "result_group_sort = result.groupby(\"Algorithm\")[metric].mean()\n",
    "result_filter = result.loc[:,[\"Algorithm\",metric]]\n",
    "name_list = list(result_group_sort.sort_values(ascending=False).index)\n",
    "sns.boxplot(x=\"Algorithm\", y=metric, data=result_filter,showmeans=True,meanline=True,meanprops=dict(color='black', linewidth=2.5),order=name_list, color=\"darkgreen\")\n",
    "plt.tight_layout()\n",
    "plt.show()"
   ]
  },
  {
   "cell_type": "markdown",
   "id": "6e318056",
   "metadata": {},
   "source": [
    "This plot demonstrates the alternatives that were fitted during the  ImbalancedLearningClassifier's run. As can be seen, a combination of Catboost and oversampling methods are the most efficient for the given dataset."
   ]
  },
  {
   "cell_type": "code",
   "execution_count": null,
   "id": "eb735392",
   "metadata": {},
   "outputs": [],
   "source": []
  }
 ],
 "metadata": {
  "kernelspec": {
   "display_name": "Python 3 (ipykernel)",
   "language": "python",
   "name": "python3"
  },
  "language_info": {
   "codemirror_mode": {
    "name": "ipython",
    "version": 3
   },
   "file_extension": ".py",
   "mimetype": "text/x-python",
   "name": "python",
   "nbconvert_exporter": "python",
   "pygments_lexer": "ipython3",
   "version": "3.8.3"
  }
 },
 "nbformat": 4,
 "nbformat_minor": 5
}
